{
 "cells": [
  {
   "cell_type": "code",
   "execution_count": 10,
   "metadata": {},
   "outputs": [
    {
     "name": "stdout",
     "output_type": "stream",
     "text": [
      "Hola, plazinauta!\n"
     ]
    }
   ],
   "source": [
    "print(\"Hola, plazinauta!\")\n"
   ]
  },
  {
   "cell_type": "code",
   "execution_count": 11,
   "metadata": {},
   "outputs": [],
   "source": [
    "import math\n",
    "import sys\n",
    "\n",
    "\n",
    "def example1():\n",
    "    # This is a long comment. This should be wrapped to fit within 72 characters.\n",
    "    some_tuple = (1, 2, 3, 'a')\n",
    "    some_variable = {'long': 'Long code lines should be wrapped within 79 characters.',\n",
    "                     'other': [math.pi, 100, 200, 300, 9876543210, 'This is a long string that goes on'],\n",
    "                     'more': {'inner': 'This whole logical line should be wrapped.', some_tuple: [1,\n",
    "                                                                                                  20, 300, 40000, 500000000, 60000000000000000]}}\n",
    "    return (some_tuple, some_variable)\n",
    "\n",
    "\n",
    "def example2(): return {'has_key() is deprecated': True}.has_key(\n",
    "    {'f': 2}.has_key(''))\n",
    "\n",
    "\n",
    "class Example3(object):\n",
    "    def __init__(self, bar):\n",
    "        # Comments should have a space after the hash.\n",
    "        if bar:\n",
    "            bar += 1\n",
    "            bar = bar * bar\n",
    "            return bar\n",
    "        else:\n",
    "            some_string = \"\"\"\n",
    "                       Indentation in multiline strings should not be touched.\n",
    "Only actual code should be reindented.\n",
    "\"\"\"\n",
    "            return (sys.path, some_string)\n"
   ]
  },
  {
   "cell_type": "code",
   "execution_count": 12,
   "metadata": {},
   "outputs": [],
   "source": [
    "x = 1"
   ]
  }
 ],
 "metadata": {
  "interpreter": {
   "hash": "e7370f93d1d0cde622a1f8e1c04877d8463912d04d973331ad4851f04de6915a"
  },
  "kernelspec": {
   "display_name": "Python 3.10.4 64-bit",
   "language": "python",
   "name": "python3"
  },
  "language_info": {
   "codemirror_mode": {
    "name": "ipython",
    "version": 3
   },
   "file_extension": ".py",
   "mimetype": "text/x-python",
   "name": "python",
   "nbconvert_exporter": "python",
   "pygments_lexer": "ipython3",
   "version": "3.10.4"
  },
  "orig_nbformat": 4
 },
 "nbformat": 4,
 "nbformat_minor": 2
}
